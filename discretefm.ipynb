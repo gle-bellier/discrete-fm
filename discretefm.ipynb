{
 "cells": [
  {
   "cell_type": "code",
   "execution_count": 1,
   "metadata": {},
   "outputs": [],
   "source": [
    "from __future__ import annotations\n",
    "from torch import nn\n",
    "from torch.nn import functional as F\n",
    "import lightning as L\n",
    "from lightning.pytorch.loggers import TensorBoardLogger\n",
    "import os\n",
    "from tqdm import tqdm\n",
    "\n",
    "import torch\n",
    "from einops import rearrange\n",
    "import matplotlib.pyplot as plt\n",
    "from typing import Tuple, List\n",
    "\n",
    "from datamodule import DigitDataModule\n",
    "from unet import SongUnet\n",
    "from utils import create_animation, plot_generation\n",
    "\n",
    "Prob = torch.Tensor\n",
    "Img = torch.Tensor\n",
    "\n",
    "def pad_like_x(x: torch.Tensor, y: torch.Tensor) -> torch.Tensor:\n",
    "    # add dims to x to match number of dims in y\n",
    "    return x.reshape(-1, *(1 for _ in range(y.ndim - x.ndim)))\n"
   ]
  },
  {
   "cell_type": "code",
   "execution_count": 2,
   "metadata": {},
   "outputs": [],
   "source": [
    "class KappaScheduler:\n",
    "    def __init__(self) -> None:\n",
    "        pass\n",
    "\n",
    "    def __call__(self, t: float | torch.Tensor) ->  float | torch.Tensor:\n",
    "        raise NotImplementedError\n",
    "    \n",
    "    def derivative(self, t: float | torch.Tensor) -> float | torch.Tensor:\n",
    "        raise NotImplementedError\n",
    "\n",
    "class CubicScheduler(KappaScheduler):\n",
    "    def __init__(self, a: float = 2.0, b: float = 0.5) -> None:\n",
    "        self.a = a\n",
    "        self.b = b\n",
    "\n",
    "    def __call__(self, t: float | torch.Tensor) -> float | torch.Tensor:\n",
    "        return -2* (t**3) + 3 * (t**2) + self.a * (t ** 3 - 2* t**2 + t) + self.b * (t**3 - t**2)\n",
    "\n",
    "    def derivative(self, t: float | torch.Tensor) -> float | torch.Tensor:\n",
    "        return -6 * (t**2) + 6 * t + self.a * (3 * t**2 - 4 * t + 1) + self.b * (3 * t**2 - 2 * t)\n"
   ]
  },
  {
   "cell_type": "code",
   "execution_count": 3,
   "metadata": {},
   "outputs": [],
   "source": [
    "\n",
    "def sample_pt(pt: Prob) -> Img:\n",
    "    b, _, h, w = pt.shape\n",
    "    pt = rearrange(pt, 'b c h w -> (b h w) c')\n",
    "    xt = torch.multinomial(pt, 1)\n",
    "    return xt.reshape(b, h, w)\n",
    "\n",
    "def sample_cond_pt(p0: Prob, p1: Prob, t: torch.Tensor | float, kappa: KappaScheduler) -> Img:\n",
    "    t = t.reshape(-1, 1, 1, 1)\n",
    "    pt = (1 - kappa(t)) * p0 + kappa(t) * p1\n",
    "    return sample_pt(pt)\n",
    "\n",
    "\n",
    "def x2prob(x: Img, dict_size: int) -> Prob:\n",
    "    x = torch.nn.functional.one_hot(x, num_classes=dict_size)\n",
    "    return rearrange(x, 'b h w c -> b c h w')\n"
   ]
  },
  {
   "cell_type": "code",
   "execution_count": 4,
   "metadata": {},
   "outputs": [],
   "source": [
    "class Coupling:\n",
    "    def __init__(self) -> None:\n",
    "        pass\n",
    "\n",
    "    def sample(self, x1: Img) -> tuple[Img, Img]:\n",
    "        raise NotImplementedError\n",
    "\n",
    "class Ucoupling(Coupling):\n",
    "    def __init__(self) -> None:\n",
    "        pass\n",
    "\n",
    "    def sample(self, x1: Img) -> tuple[Img, Img]:\n",
    "        return torch.zeros_like(x1), x1\n",
    "\n",
    "class Ccoupling(Coupling):\n",
    "    def __init__(self, msk_prop: float = 0.8) -> None:\n",
    "        self.msk_prob = msk_prop\n",
    "\n",
    "    def sample(self, x1: Img) -> tuple[Img, Img]:\n",
    "        # sample mask\n",
    "        I = torch.rand_like(x1.float()) > self.msk_prob\n",
    "        x0 = x1 * I + torch.zeros_like(x1) * (~I)\n",
    "        return x0, x1\n"
   ]
  },
  {
   "cell_type": "code",
   "execution_count": 5,
   "metadata": {},
   "outputs": [],
   "source": [
    "\n",
    "\n",
    "class DiscreteFM(L.LightningModule):\n",
    "    def __init__(self, dict_size: int,  backbone: nn.Module, coupling: Coupling, kappa: KappaScheduler, sampler:DiscreteSampler) -> None:\n",
    "        super().__init__()\n",
    "        self.dict_size = dict_size\n",
    "        self.backbone = backbone\n",
    "        self.coupling = coupling\n",
    "        self.kappa = kappa\n",
    "        self.sampler = sampler\n",
    "\n",
    "    def forward(self, t: float | torch.Tensor, x: Img) -> Img:\n",
    "        return self.backbone(t, x)\n",
    "\n",
    "    def forward_u(self, t: float | torch.Tensor, xt: Img) -> Prob:\n",
    "        dirac_xt = x2prob(xt, self.dict_size)\n",
    "        p1t = torch.softmax(self(t.flatten(), xt), dim=1)\n",
    "\n",
    "        kappa_coeff = self.kappa.derivative(t) / (1 - self.kappa(t))\n",
    "        return kappa_coeff * (p1t - dirac_xt)\n",
    "\n",
    "    def backward_u(self, t: float | torch.Tensor, xt: Img) -> Prob:\n",
    "        dirac_xt = x2prob(xt, self.dict_size)\n",
    "\n",
    "        # TODO: adapt to Ccoupling\n",
    "        x0 = torch.zeros_like(xt)\n",
    "        p = x2prob(x0, self.dict_size)\n",
    "\n",
    "        kappa_coeff = self.kappa.derivative(t) / self.kappa(t)\n",
    "        return kappa_coeff * (dirac_xt - p)\n",
    "\n",
    "    def bar_u(self, t: float | torch.Tensor, xt: Img, alpha_t: float | torch.Tensor, beta_t: float | torch.Tensor) -> Prob:\n",
    "        return alpha_t * self.forward_u(t, xt) - beta_t * self.backward_u(t, xt)\n",
    "\n",
    "    @torch.no_grad()\n",
    "    def sample(self, sample_size: Tuple[int], n_steps: int = 100) -> Img:\n",
    "        return self.sampler(sample_size, self, n_steps)\n",
    "\n",
    "\n",
    "    def step(self, batch: Tuple[torch.Tensor, torch.Tensor]) -> torch.Tensor:\n",
    "        # sample x0, x1 w.r.t. coupling\n",
    "        x0, x1 = self.coupling.sample(batch[0])\n",
    "\n",
    "        # sample t ~ U[0, 1]\n",
    "        t = torch.rand(len(x0), device=self.device)\n",
    "\n",
    "        # sample pt(.|x0, x1)\n",
    "        dirac_x0 = x2prob(x0, self.dict_size)\n",
    "        dirac_x1 = x2prob(x1, self.dict_size)\n",
    "        xt = sample_cond_pt(dirac_x0, dirac_x1, t, self.kappa)\n",
    "\n",
    "        # predict p1|t, i.e. (VF - Denoiser)\n",
    "        p1t = self(t, xt)\n",
    "        loss = F.cross_entropy(p1t, x1.long())\n",
    "\n",
    "        return loss\n",
    "\n",
    "\n",
    "    def training_step(self, batch: Tuple[torch.Tensor, torch.Tensor], batch_idx: int) -> torch.Tensor:\n",
    "        loss = self.step(batch)\n",
    "        self.log('train_loss', loss, on_step=True, on_epoch=True, prog_bar=True, logger=True)\n",
    "        return loss\n",
    "    \n",
    "    def validation_step(self, batch: Tuple[torch.Tensor, torch.Tensor], batch_idx: int) -> torch.Tensor:\n",
    "        loss = self.step(batch)\n",
    "        self.log('val_loss', loss, on_step=True, on_epoch=True, prog_bar=True, logger=True)\n",
    "        return loss\n",
    "\n",
    "    def configure_optimizers(self):\n",
    "        return torch.optim.Adam(self.parameters(), lr=5e-4)\n",
    "        \n",
    "\n",
    "    "
   ]
  },
  {
   "cell_type": "code",
   "execution_count": 6,
   "metadata": {},
   "outputs": [],
   "source": [
    "\n",
    "\n",
    "class DiscreteSampler:\n",
    "    def __init__(self, adaptative: bool = True) -> None:\n",
    "        self.h = self.adaptative_h if adaptative else self.constant_h\n",
    "\n",
    "\n",
    "    def u(self, t: float | torch.Tensor, xt: Img, discretefm: DiscreteFM) -> Prob:\n",
    "        raise NotImplementedError\n",
    "\n",
    "    def adaptative_h(self, h: float | torch.Tensor, t: float | torch.Tensor,  discretefm: DiscreteFM) -> float | torch.Tensor:\n",
    "        raise NotImplementedError\n",
    "\n",
    "    def constant_h(self, h: float | torch.Tensor, t: float | torch.Tensor,  discretefm: DiscreteFM) -> float | torch.Tensor:\n",
    "        return h\n",
    "\n",
    "    def sample_x0(self, sample_size: Tuple[int], device: torch.device, dict_size: int) -> Tuple[Img, Prob]:\n",
    "        x0 = torch.zeros(sample_size, device=device, dtype=torch.long)\n",
    "        dirac_x0 = x2prob(x0, dict_size)\n",
    "\n",
    "        return x0, dirac_x0\n",
    "\n",
    "    def __call__(self, sample_size: Tuple[int], discretefm: DiscreteFM, n_steps: int, t_min: float = 1e-4) -> List[Img]:\n",
    "\n",
    "        t = t_min * torch.ones(sample_size[0], device=discretefm.device)\n",
    "        default_h = 1 / n_steps\n",
    "        # sample initial x0\n",
    "        xt, dirac_xt = self.sample_x0(sample_size, discretefm.device, discretefm.dict_size)\n",
    "\n",
    "        list_xt = [xt]\n",
    "        t = pad_like_x(t, dirac_xt)\n",
    "\n",
    "        while t.max() <= 1 - default_h:\n",
    "            h = self.h(default_h, t, discretefm)\n",
    "            pt = dirac_xt + h * self.u(t, xt, discretefm)\n",
    "            # sample xt\n",
    "            xt = sample_pt(pt)\n",
    "            dirac_xt = x2prob(xt, discretefm.dict_size)\n",
    "            t += h\n",
    "            list_xt.append(xt)\n",
    "        \n",
    "        return list_xt\n",
    "\n",
    "class SimpleSampler(DiscreteSampler):\n",
    "\n",
    "    def u(self, t: float | torch.Tensor, xt: Img, discretefm: DiscreteFM) -> Prob:\n",
    "        return discretefm.forward_u(t, xt)\n",
    "\n",
    "    def adaptative_h(self, h: float | torch.Tensor, t: float | torch.Tensor, discretefm: DiscreteFM) -> float | torch.Tensor:\n",
    "\n",
    "        coeff = (1 - discretefm.kappa(t)) / discretefm.kappa.derivative(t)\n",
    "        h = torch.tensor(h, device=discretefm.device)\n",
    "        h_adapt = torch.minimum(h, coeff)\n",
    "        return h_adapt\n",
    "\n",
    "class CorrectorSampler(DiscreteSampler):\n",
    "    def __init__(self, adaptative: bool = True, alpha: float = 12., a: float = 2.,  b: float = 0.25) -> None:\n",
    "        super().__init__(adaptative)\n",
    "        # best hyperparameters for image generation (w.r.t. the paper)\n",
    "        self.alpha = alpha\n",
    "        self.a, self.b = a, b\n",
    "        self.alpha_t = lambda t: 1 + (self.alpha * (t ** self.a)) * ((1 - t) ** self.b)\n",
    "        self.beta_t = lambda t: self.alpha_t(t) - 1\n",
    "\n",
    "    def u(self, t: float | torch.Tensor, xt: Img, discretefm: DiscreteFM) -> Prob:\n",
    "        return discretefm.bar_u(t, xt, self.alpha_t(t), self.beta_t(t))\n",
    "\n",
    "    def adaptative_h(self, h: float | torch.Tensor, t: float | torch.Tensor, discretefm: DiscreteFM) -> float | torch.Tensor:\n",
    "\n",
    "        alpha_term = self.alpha_t(t) * discretefm.kappa.derivative(t) / (1 - discretefm.kappa(t))\n",
    "        beta_term = self.beta_t(t) * discretefm.kappa.derivative(t) / discretefm.kappa(t)\n",
    "        coeff = 1 / (alpha_term + beta_term)\n",
    "\n",
    "        h = torch.tensor(h, device=discretefm.device)\n",
    "        h_adapt = torch.minimum(h, coeff)\n",
    "        return h_adapt"
   ]
  },
  {
   "cell_type": "code",
   "execution_count": 7,
   "metadata": {},
   "outputs": [
    {
     "name": "stderr",
     "output_type": "stream",
     "text": [
      "GPU available: True (cuda), used: True\n",
      "TPU available: False, using: 0 TPU cores\n",
      "IPU available: False, using: 0 IPUs\n",
      "HPU available: False, using: 0 HPUs\n",
      "LOCAL_RANK: 0 - CUDA_VISIBLE_DEVICES: [0]\n",
      "\n",
      "  | Name     | Type     | Params\n",
      "--------------------------------------\n",
      "0 | backbone | SongUnet | 15.5 M\n",
      "--------------------------------------\n",
      "15.5 M    Trainable params\n",
      "0         Non-trainable params\n",
      "15.5 M    Total params\n",
      "61.918    Total estimated model params size (MB)\n"
     ]
    },
    {
     "data": {
      "application/vnd.jupyter.widget-view+json": {
       "model_id": "63433c0669dc487aabee162f2626b082",
       "version_major": 2,
       "version_minor": 0
      },
      "text/plain": [
       "Sanity Checking: |          | 0/? [00:00<?, ?it/s]"
      ]
     },
     "metadata": {},
     "output_type": "display_data"
    },
    {
     "data": {
      "application/vnd.jupyter.widget-view+json": {
       "model_id": "3cb2574d53ec468d8cf9d3f48b8b4bc0",
       "version_major": 2,
       "version_minor": 0
      },
      "text/plain": [
       "Training: |          | 0/? [00:00<?, ?it/s]"
      ]
     },
     "metadata": {},
     "output_type": "display_data"
    },
    {
     "data": {
      "application/vnd.jupyter.widget-view+json": {
       "model_id": "d9ce84f9a0634b689470a7bb0e18586a",
       "version_major": 2,
       "version_minor": 0
      },
      "text/plain": [
       "Validation: |          | 0/? [00:00<?, ?it/s]"
      ]
     },
     "metadata": {},
     "output_type": "display_data"
    },
    {
     "data": {
      "application/vnd.jupyter.widget-view+json": {
       "model_id": "5cbaab5509a74b118a9c4ce662d9f801",
       "version_major": 2,
       "version_minor": 0
      },
      "text/plain": [
       "Validation: |          | 0/? [00:00<?, ?it/s]"
      ]
     },
     "metadata": {},
     "output_type": "display_data"
    },
    {
     "data": {
      "application/vnd.jupyter.widget-view+json": {
       "model_id": "0435b8f85a4f43118bdef960cea1a8b4",
       "version_major": 2,
       "version_minor": 0
      },
      "text/plain": [
       "Validation: |          | 0/? [00:00<?, ?it/s]"
      ]
     },
     "metadata": {},
     "output_type": "display_data"
    },
    {
     "data": {
      "application/vnd.jupyter.widget-view+json": {
       "model_id": "af67a4a44164439e9ec417630260fd9f",
       "version_major": 2,
       "version_minor": 0
      },
      "text/plain": [
       "Validation: |          | 0/? [00:00<?, ?it/s]"
      ]
     },
     "metadata": {},
     "output_type": "display_data"
    },
    {
     "data": {
      "application/vnd.jupyter.widget-view+json": {
       "model_id": "f4222247f7aa471a96c17760a4e66aac",
       "version_major": 2,
       "version_minor": 0
      },
      "text/plain": [
       "Validation: |          | 0/? [00:00<?, ?it/s]"
      ]
     },
     "metadata": {},
     "output_type": "display_data"
    },
    {
     "data": {
      "application/vnd.jupyter.widget-view+json": {
       "model_id": "ade7ab33fb4a49709af4d87154b90ebe",
       "version_major": 2,
       "version_minor": 0
      },
      "text/plain": [
       "Validation: |          | 0/? [00:00<?, ?it/s]"
      ]
     },
     "metadata": {},
     "output_type": "display_data"
    },
    {
     "data": {
      "application/vnd.jupyter.widget-view+json": {
       "model_id": "5b7107b1deff4e7d831d2175d2b327fe",
       "version_major": 2,
       "version_minor": 0
      },
      "text/plain": [
       "Validation: |          | 0/? [00:00<?, ?it/s]"
      ]
     },
     "metadata": {},
     "output_type": "display_data"
    },
    {
     "data": {
      "application/vnd.jupyter.widget-view+json": {
       "model_id": "3e47688080744b71bf476ac9acb3140d",
       "version_major": 2,
       "version_minor": 0
      },
      "text/plain": [
       "Validation: |          | 0/? [00:00<?, ?it/s]"
      ]
     },
     "metadata": {},
     "output_type": "display_data"
    },
    {
     "data": {
      "application/vnd.jupyter.widget-view+json": {
       "model_id": "2931eadbd13b49baba610df96b4eb861",
       "version_major": 2,
       "version_minor": 0
      },
      "text/plain": [
       "Validation: |          | 0/? [00:00<?, ?it/s]"
      ]
     },
     "metadata": {},
     "output_type": "display_data"
    },
    {
     "data": {
      "application/vnd.jupyter.widget-view+json": {
       "model_id": "4e8e3b8518e541819789257c63ccc3c2",
       "version_major": 2,
       "version_minor": 0
      },
      "text/plain": [
       "Validation: |          | 0/? [00:00<?, ?it/s]"
      ]
     },
     "metadata": {},
     "output_type": "display_data"
    },
    {
     "data": {
      "application/vnd.jupyter.widget-view+json": {
       "model_id": "681f1e1aac4a41dbb19c4a28b356d815",
       "version_major": 2,
       "version_minor": 0
      },
      "text/plain": [
       "Validation: |          | 0/? [00:00<?, ?it/s]"
      ]
     },
     "metadata": {},
     "output_type": "display_data"
    },
    {
     "data": {
      "application/vnd.jupyter.widget-view+json": {
       "model_id": "e962a63faa12409bb4222edac26d8769",
       "version_major": 2,
       "version_minor": 0
      },
      "text/plain": [
       "Validation: |          | 0/? [00:00<?, ?it/s]"
      ]
     },
     "metadata": {},
     "output_type": "display_data"
    },
    {
     "data": {
      "application/vnd.jupyter.widget-view+json": {
       "model_id": "6e8dc26b308e428f9fb1391786305f20",
       "version_major": 2,
       "version_minor": 0
      },
      "text/plain": [
       "Validation: |          | 0/? [00:00<?, ?it/s]"
      ]
     },
     "metadata": {},
     "output_type": "display_data"
    },
    {
     "data": {
      "application/vnd.jupyter.widget-view+json": {
       "model_id": "0199aa5abc114f6884af245f063c86ca",
       "version_major": 2,
       "version_minor": 0
      },
      "text/plain": [
       "Validation: |          | 0/? [00:00<?, ?it/s]"
      ]
     },
     "metadata": {},
     "output_type": "display_data"
    },
    {
     "data": {
      "application/vnd.jupyter.widget-view+json": {
       "model_id": "b83f6efabb5246cc8c74c49d0ba8dad7",
       "version_major": 2,
       "version_minor": 0
      },
      "text/plain": [
       "Validation: |          | 0/? [00:00<?, ?it/s]"
      ]
     },
     "metadata": {},
     "output_type": "display_data"
    },
    {
     "data": {
      "application/vnd.jupyter.widget-view+json": {
       "model_id": "b1e25f61d80144ae8219b771bf64d133",
       "version_major": 2,
       "version_minor": 0
      },
      "text/plain": [
       "Validation: |          | 0/? [00:00<?, ?it/s]"
      ]
     },
     "metadata": {},
     "output_type": "display_data"
    },
    {
     "data": {
      "application/vnd.jupyter.widget-view+json": {
       "model_id": "f5cdb06f2318463798dec207ceac55e4",
       "version_major": 2,
       "version_minor": 0
      },
      "text/plain": [
       "Validation: |          | 0/? [00:00<?, ?it/s]"
      ]
     },
     "metadata": {},
     "output_type": "display_data"
    },
    {
     "data": {
      "application/vnd.jupyter.widget-view+json": {
       "model_id": "4d50160638074224ab670371aab80087",
       "version_major": 2,
       "version_minor": 0
      },
      "text/plain": [
       "Validation: |          | 0/? [00:00<?, ?it/s]"
      ]
     },
     "metadata": {},
     "output_type": "display_data"
    },
    {
     "data": {
      "application/vnd.jupyter.widget-view+json": {
       "model_id": "42cab9f4ab7f45f8ba3e3c26ad5fb284",
       "version_major": 2,
       "version_minor": 0
      },
      "text/plain": [
       "Validation: |          | 0/? [00:00<?, ?it/s]"
      ]
     },
     "metadata": {},
     "output_type": "display_data"
    },
    {
     "data": {
      "application/vnd.jupyter.widget-view+json": {
       "model_id": "07f98a01fcc7413a8ace89c01ca8160b",
       "version_major": 2,
       "version_minor": 0
      },
      "text/plain": [
       "Validation: |          | 0/? [00:00<?, ?it/s]"
      ]
     },
     "metadata": {},
     "output_type": "display_data"
    },
    {
     "data": {
      "application/vnd.jupyter.widget-view+json": {
       "model_id": "6f310110482445e89970c6104315a6a7",
       "version_major": 2,
       "version_minor": 0
      },
      "text/plain": [
       "Validation: |          | 0/? [00:00<?, ?it/s]"
      ]
     },
     "metadata": {},
     "output_type": "display_data"
    },
    {
     "data": {
      "application/vnd.jupyter.widget-view+json": {
       "model_id": "0fbfbc78b6cd403aa880df1783e0ff39",
       "version_major": 2,
       "version_minor": 0
      },
      "text/plain": [
       "Validation: |          | 0/? [00:00<?, ?it/s]"
      ]
     },
     "metadata": {},
     "output_type": "display_data"
    },
    {
     "data": {
      "application/vnd.jupyter.widget-view+json": {
       "model_id": "0cd669b7bb004a6a9aba53b909096869",
       "version_major": 2,
       "version_minor": 0
      },
      "text/plain": [
       "Validation: |          | 0/? [00:00<?, ?it/s]"
      ]
     },
     "metadata": {},
     "output_type": "display_data"
    },
    {
     "data": {
      "application/vnd.jupyter.widget-view+json": {
       "model_id": "4d21d1043a0d40c790b7e777f318612f",
       "version_major": 2,
       "version_minor": 0
      },
      "text/plain": [
       "Validation: |          | 0/? [00:00<?, ?it/s]"
      ]
     },
     "metadata": {},
     "output_type": "display_data"
    },
    {
     "data": {
      "application/vnd.jupyter.widget-view+json": {
       "model_id": "8c9af3147d52460a94437a136cb0499f",
       "version_major": 2,
       "version_minor": 0
      },
      "text/plain": [
       "Validation: |          | 0/? [00:00<?, ?it/s]"
      ]
     },
     "metadata": {},
     "output_type": "display_data"
    },
    {
     "data": {
      "application/vnd.jupyter.widget-view+json": {
       "model_id": "3551d4ac78b945658d6a5ac8dfd584ea",
       "version_major": 2,
       "version_minor": 0
      },
      "text/plain": [
       "Validation: |          | 0/? [00:00<?, ?it/s]"
      ]
     },
     "metadata": {},
     "output_type": "display_data"
    },
    {
     "data": {
      "application/vnd.jupyter.widget-view+json": {
       "model_id": "0c2296dece444613b2c0186d24cb8fb4",
       "version_major": 2,
       "version_minor": 0
      },
      "text/plain": [
       "Validation: |          | 0/? [00:00<?, ?it/s]"
      ]
     },
     "metadata": {},
     "output_type": "display_data"
    },
    {
     "data": {
      "application/vnd.jupyter.widget-view+json": {
       "model_id": "ce581f8ea29543b385887a0c8b282b5d",
       "version_major": 2,
       "version_minor": 0
      },
      "text/plain": [
       "Validation: |          | 0/? [00:00<?, ?it/s]"
      ]
     },
     "metadata": {},
     "output_type": "display_data"
    },
    {
     "data": {
      "application/vnd.jupyter.widget-view+json": {
       "model_id": "91c836e380c94ac496c89c0c24631ad9",
       "version_major": 2,
       "version_minor": 0
      },
      "text/plain": [
       "Validation: |          | 0/? [00:00<?, ?it/s]"
      ]
     },
     "metadata": {},
     "output_type": "display_data"
    },
    {
     "data": {
      "application/vnd.jupyter.widget-view+json": {
       "model_id": "8039922e9eb642e192ec055474b35ddf",
       "version_major": 2,
       "version_minor": 0
      },
      "text/plain": [
       "Validation: |          | 0/? [00:00<?, ?it/s]"
      ]
     },
     "metadata": {},
     "output_type": "display_data"
    },
    {
     "data": {
      "application/vnd.jupyter.widget-view+json": {
       "model_id": "4cc5b83d3d40497ab111e6c354be3518",
       "version_major": 2,
       "version_minor": 0
      },
      "text/plain": [
       "Validation: |          | 0/? [00:00<?, ?it/s]"
      ]
     },
     "metadata": {},
     "output_type": "display_data"
    },
    {
     "data": {
      "application/vnd.jupyter.widget-view+json": {
       "model_id": "f09c761abaae4e53ad16bcc017a9866d",
       "version_major": 2,
       "version_minor": 0
      },
      "text/plain": [
       "Validation: |          | 0/? [00:00<?, ?it/s]"
      ]
     },
     "metadata": {},
     "output_type": "display_data"
    },
    {
     "data": {
      "application/vnd.jupyter.widget-view+json": {
       "model_id": "ea70ae696f7d462db36f6dd1a50c832e",
       "version_major": 2,
       "version_minor": 0
      },
      "text/plain": [
       "Validation: |          | 0/? [00:00<?, ?it/s]"
      ]
     },
     "metadata": {},
     "output_type": "display_data"
    },
    {
     "data": {
      "application/vnd.jupyter.widget-view+json": {
       "model_id": "e5dafb645cab462092ddef0272d08281",
       "version_major": 2,
       "version_minor": 0
      },
      "text/plain": [
       "Validation: |          | 0/? [00:00<?, ?it/s]"
      ]
     },
     "metadata": {},
     "output_type": "display_data"
    },
    {
     "data": {
      "application/vnd.jupyter.widget-view+json": {
       "model_id": "15d001d04ffe4814b19e659be3410c71",
       "version_major": 2,
       "version_minor": 0
      },
      "text/plain": [
       "Validation: |          | 0/? [00:00<?, ?it/s]"
      ]
     },
     "metadata": {},
     "output_type": "display_data"
    },
    {
     "data": {
      "application/vnd.jupyter.widget-view+json": {
       "model_id": "c3951903f6d64da0a005b38aa899c4b4",
       "version_major": 2,
       "version_minor": 0
      },
      "text/plain": [
       "Validation: |          | 0/? [00:00<?, ?it/s]"
      ]
     },
     "metadata": {},
     "output_type": "display_data"
    },
    {
     "data": {
      "application/vnd.jupyter.widget-view+json": {
       "model_id": "0d6d663098114caaac26f9a1230c6b98",
       "version_major": 2,
       "version_minor": 0
      },
      "text/plain": [
       "Validation: |          | 0/? [00:00<?, ?it/s]"
      ]
     },
     "metadata": {},
     "output_type": "display_data"
    },
    {
     "data": {
      "application/vnd.jupyter.widget-view+json": {
       "model_id": "fb1eb558912c4d07aa49b49f6c5d7ccb",
       "version_major": 2,
       "version_minor": 0
      },
      "text/plain": [
       "Validation: |          | 0/? [00:00<?, ?it/s]"
      ]
     },
     "metadata": {},
     "output_type": "display_data"
    },
    {
     "data": {
      "application/vnd.jupyter.widget-view+json": {
       "model_id": "a4a0da744a104822b50db5330ac90f14",
       "version_major": 2,
       "version_minor": 0
      },
      "text/plain": [
       "Validation: |          | 0/? [00:00<?, ?it/s]"
      ]
     },
     "metadata": {},
     "output_type": "display_data"
    },
    {
     "data": {
      "application/vnd.jupyter.widget-view+json": {
       "model_id": "b911b76b1a8746509690103d5586a622",
       "version_major": 2,
       "version_minor": 0
      },
      "text/plain": [
       "Validation: |          | 0/? [00:00<?, ?it/s]"
      ]
     },
     "metadata": {},
     "output_type": "display_data"
    },
    {
     "data": {
      "application/vnd.jupyter.widget-view+json": {
       "model_id": "bb1c02d782de4cb289a461cd9400ac03",
       "version_major": 2,
       "version_minor": 0
      },
      "text/plain": [
       "Validation: |          | 0/? [00:00<?, ?it/s]"
      ]
     },
     "metadata": {},
     "output_type": "display_data"
    },
    {
     "data": {
      "application/vnd.jupyter.widget-view+json": {
       "model_id": "5c11c5c0f68d48548d1a5d9b6e749944",
       "version_major": 2,
       "version_minor": 0
      },
      "text/plain": [
       "Validation: |          | 0/? [00:00<?, ?it/s]"
      ]
     },
     "metadata": {},
     "output_type": "display_data"
    },
    {
     "data": {
      "application/vnd.jupyter.widget-view+json": {
       "model_id": "8b757e24f4ac4d748b9149b5937c6cba",
       "version_major": 2,
       "version_minor": 0
      },
      "text/plain": [
       "Validation: |          | 0/? [00:00<?, ?it/s]"
      ]
     },
     "metadata": {},
     "output_type": "display_data"
    },
    {
     "data": {
      "application/vnd.jupyter.widget-view+json": {
       "model_id": "f9f94d171ec7490f9323add28fbd5d99",
       "version_major": 2,
       "version_minor": 0
      },
      "text/plain": [
       "Validation: |          | 0/? [00:00<?, ?it/s]"
      ]
     },
     "metadata": {},
     "output_type": "display_data"
    },
    {
     "data": {
      "application/vnd.jupyter.widget-view+json": {
       "model_id": "927a59e528d446f2b4b14a910ef41a93",
       "version_major": 2,
       "version_minor": 0
      },
      "text/plain": [
       "Validation: |          | 0/? [00:00<?, ?it/s]"
      ]
     },
     "metadata": {},
     "output_type": "display_data"
    },
    {
     "data": {
      "application/vnd.jupyter.widget-view+json": {
       "model_id": "ad6a1bb769824a33bfa9f47f3afbfffb",
       "version_major": 2,
       "version_minor": 0
      },
      "text/plain": [
       "Validation: |          | 0/? [00:00<?, ?it/s]"
      ]
     },
     "metadata": {},
     "output_type": "display_data"
    },
    {
     "data": {
      "application/vnd.jupyter.widget-view+json": {
       "model_id": "ec63cbf314e8441fa132a3f24a6e3ac9",
       "version_major": 2,
       "version_minor": 0
      },
      "text/plain": [
       "Validation: |          | 0/? [00:00<?, ?it/s]"
      ]
     },
     "metadata": {},
     "output_type": "display_data"
    },
    {
     "data": {
      "application/vnd.jupyter.widget-view+json": {
       "model_id": "0283b7daf3fd4935b059ac5217d8d4d2",
       "version_major": 2,
       "version_minor": 0
      },
      "text/plain": [
       "Validation: |          | 0/? [00:00<?, ?it/s]"
      ]
     },
     "metadata": {},
     "output_type": "display_data"
    },
    {
     "data": {
      "application/vnd.jupyter.widget-view+json": {
       "model_id": "799a0c93947f4767b66b6dc9cbd17fd8",
       "version_major": 2,
       "version_minor": 0
      },
      "text/plain": [
       "Validation: |          | 0/? [00:00<?, ?it/s]"
      ]
     },
     "metadata": {},
     "output_type": "display_data"
    },
    {
     "data": {
      "application/vnd.jupyter.widget-view+json": {
       "model_id": "bcd9f0c09422484e9cb48b22c4f7d05c",
       "version_major": 2,
       "version_minor": 0
      },
      "text/plain": [
       "Validation: |          | 0/? [00:00<?, ?it/s]"
      ]
     },
     "metadata": {},
     "output_type": "display_data"
    },
    {
     "name": "stderr",
     "output_type": "stream",
     "text": [
      "`Trainer.fit` stopped: `max_epochs=50` reached.\n"
     ]
    }
   ],
   "source": [
    "\n",
    "DICT_SIZE = 10\n",
    "MODEL_CHANNELS = 64\n",
    "unet =  SongUnet(img_resolution = 32,  # Image resolution at input/output.\n",
    "    in_channels = 1,  \n",
    "    out_channels = DICT_SIZE,\n",
    "    model_channels= MODEL_CHANNELS)  \n",
    "coupling = Ucoupling()\n",
    "kappa = CubicScheduler()\n",
    "sampler = SimpleSampler()\n",
    "# sampler = CorrectorSampler()\n",
    "\n",
    "discretefm = DiscreteFM(DICT_SIZE, unet, coupling, kappa, sampler)\n",
    "\n",
    "dm = DigitDataModule(dict_size=DICT_SIZE, batch_size=450)\n",
    "dm.setup()\n",
    "\n",
    "# launch training\n",
    "os.environ[\"CUDA_VISIBLE_DEVICES\"] = \"0\"\n",
    "trainer = L.Trainer(max_epochs=50, logger=TensorBoardLogger('lightning_logs'))\n",
    "trainer.fit(discretefm, dm)\n",
    "\n",
    "\n",
    "# save model\n",
    "\n",
    "save_path = f'discretefm-{MODEL_CHANNELS}.pt'\n",
    "torch.save(discretefm.state_dict(), save_path)\n"
   ]
  },
  {
   "cell_type": "markdown",
   "metadata": {},
   "source": [
    "## Inference"
   ]
  },
  {
   "cell_type": "code",
   "execution_count": 8,
   "metadata": {},
   "outputs": [
    {
     "data": {
      "text/plain": [
       "DiscreteFM(\n",
       "  (backbone): SongUnet(\n",
       "    (map_noise): PositionalEmbedding()\n",
       "    (map_layer0): Linear()\n",
       "    (map_layer1): Linear()\n",
       "    (enc): ModuleDict(\n",
       "      (32x32_conv): Conv2d()\n",
       "      (32x32_block0): UNetBlock(\n",
       "        (norm0): GroupNorm()\n",
       "        (conv0): Conv2d()\n",
       "        (affine): Linear()\n",
       "        (norm1): GroupNorm()\n",
       "        (conv1): Conv2d()\n",
       "      )\n",
       "      (32x32_block1): UNetBlock(\n",
       "        (norm0): GroupNorm()\n",
       "        (conv0): Conv2d()\n",
       "        (affine): Linear()\n",
       "        (norm1): GroupNorm()\n",
       "        (conv1): Conv2d()\n",
       "      )\n",
       "      (32x32_block2): UNetBlock(\n",
       "        (norm0): GroupNorm()\n",
       "        (conv0): Conv2d()\n",
       "        (affine): Linear()\n",
       "        (norm1): GroupNorm()\n",
       "        (conv1): Conv2d()\n",
       "      )\n",
       "      (32x32_block3): UNetBlock(\n",
       "        (norm0): GroupNorm()\n",
       "        (conv0): Conv2d()\n",
       "        (affine): Linear()\n",
       "        (norm1): GroupNorm()\n",
       "        (conv1): Conv2d()\n",
       "      )\n",
       "      (16x16_down): UNetBlock(\n",
       "        (norm0): GroupNorm()\n",
       "        (conv0): Conv2d()\n",
       "        (affine): Linear()\n",
       "        (norm1): GroupNorm()\n",
       "        (conv1): Conv2d()\n",
       "        (skip): Conv2d()\n",
       "      )\n",
       "      (16x16_block0): UNetBlock(\n",
       "        (norm0): GroupNorm()\n",
       "        (conv0): Conv2d()\n",
       "        (affine): Linear()\n",
       "        (norm1): GroupNorm()\n",
       "        (conv1): Conv2d()\n",
       "        (skip): Conv2d()\n",
       "        (norm2): GroupNorm()\n",
       "        (qkv): Conv2d()\n",
       "        (proj): Conv2d()\n",
       "      )\n",
       "      (16x16_block1): UNetBlock(\n",
       "        (norm0): GroupNorm()\n",
       "        (conv0): Conv2d()\n",
       "        (affine): Linear()\n",
       "        (norm1): GroupNorm()\n",
       "        (conv1): Conv2d()\n",
       "        (norm2): GroupNorm()\n",
       "        (qkv): Conv2d()\n",
       "        (proj): Conv2d()\n",
       "      )\n",
       "      (16x16_block2): UNetBlock(\n",
       "        (norm0): GroupNorm()\n",
       "        (conv0): Conv2d()\n",
       "        (affine): Linear()\n",
       "        (norm1): GroupNorm()\n",
       "        (conv1): Conv2d()\n",
       "        (norm2): GroupNorm()\n",
       "        (qkv): Conv2d()\n",
       "        (proj): Conv2d()\n",
       "      )\n",
       "      (16x16_block3): UNetBlock(\n",
       "        (norm0): GroupNorm()\n",
       "        (conv0): Conv2d()\n",
       "        (affine): Linear()\n",
       "        (norm1): GroupNorm()\n",
       "        (conv1): Conv2d()\n",
       "        (norm2): GroupNorm()\n",
       "        (qkv): Conv2d()\n",
       "        (proj): Conv2d()\n",
       "      )\n",
       "      (8x8_down): UNetBlock(\n",
       "        (norm0): GroupNorm()\n",
       "        (conv0): Conv2d()\n",
       "        (affine): Linear()\n",
       "        (norm1): GroupNorm()\n",
       "        (conv1): Conv2d()\n",
       "        (skip): Conv2d()\n",
       "      )\n",
       "      (8x8_block0): UNetBlock(\n",
       "        (norm0): GroupNorm()\n",
       "        (conv0): Conv2d()\n",
       "        (affine): Linear()\n",
       "        (norm1): GroupNorm()\n",
       "        (conv1): Conv2d()\n",
       "      )\n",
       "      (8x8_block1): UNetBlock(\n",
       "        (norm0): GroupNorm()\n",
       "        (conv0): Conv2d()\n",
       "        (affine): Linear()\n",
       "        (norm1): GroupNorm()\n",
       "        (conv1): Conv2d()\n",
       "      )\n",
       "      (8x8_block2): UNetBlock(\n",
       "        (norm0): GroupNorm()\n",
       "        (conv0): Conv2d()\n",
       "        (affine): Linear()\n",
       "        (norm1): GroupNorm()\n",
       "        (conv1): Conv2d()\n",
       "      )\n",
       "      (8x8_block3): UNetBlock(\n",
       "        (norm0): GroupNorm()\n",
       "        (conv0): Conv2d()\n",
       "        (affine): Linear()\n",
       "        (norm1): GroupNorm()\n",
       "        (conv1): Conv2d()\n",
       "      )\n",
       "      (4x4_down): UNetBlock(\n",
       "        (norm0): GroupNorm()\n",
       "        (conv0): Conv2d()\n",
       "        (affine): Linear()\n",
       "        (norm1): GroupNorm()\n",
       "        (conv1): Conv2d()\n",
       "        (skip): Conv2d()\n",
       "      )\n",
       "      (4x4_block0): UNetBlock(\n",
       "        (norm0): GroupNorm()\n",
       "        (conv0): Conv2d()\n",
       "        (affine): Linear()\n",
       "        (norm1): GroupNorm()\n",
       "        (conv1): Conv2d()\n",
       "      )\n",
       "      (4x4_block1): UNetBlock(\n",
       "        (norm0): GroupNorm()\n",
       "        (conv0): Conv2d()\n",
       "        (affine): Linear()\n",
       "        (norm1): GroupNorm()\n",
       "        (conv1): Conv2d()\n",
       "      )\n",
       "      (4x4_block2): UNetBlock(\n",
       "        (norm0): GroupNorm()\n",
       "        (conv0): Conv2d()\n",
       "        (affine): Linear()\n",
       "        (norm1): GroupNorm()\n",
       "        (conv1): Conv2d()\n",
       "      )\n",
       "      (4x4_block3): UNetBlock(\n",
       "        (norm0): GroupNorm()\n",
       "        (conv0): Conv2d()\n",
       "        (affine): Linear()\n",
       "        (norm1): GroupNorm()\n",
       "        (conv1): Conv2d()\n",
       "      )\n",
       "    )\n",
       "    (dec): ModuleDict(\n",
       "      (4x4_in0): UNetBlock(\n",
       "        (norm0): GroupNorm()\n",
       "        (conv0): Conv2d()\n",
       "        (affine): Linear()\n",
       "        (norm1): GroupNorm()\n",
       "        (conv1): Conv2d()\n",
       "        (norm2): GroupNorm()\n",
       "        (qkv): Conv2d()\n",
       "        (proj): Conv2d()\n",
       "      )\n",
       "      (4x4_in1): UNetBlock(\n",
       "        (norm0): GroupNorm()\n",
       "        (conv0): Conv2d()\n",
       "        (affine): Linear()\n",
       "        (norm1): GroupNorm()\n",
       "        (conv1): Conv2d()\n",
       "      )\n",
       "      (4x4_block0): UNetBlock(\n",
       "        (norm0): GroupNorm()\n",
       "        (conv0): Conv2d()\n",
       "        (affine): Linear()\n",
       "        (norm1): GroupNorm()\n",
       "        (conv1): Conv2d()\n",
       "        (skip): Conv2d()\n",
       "      )\n",
       "      (4x4_block1): UNetBlock(\n",
       "        (norm0): GroupNorm()\n",
       "        (conv0): Conv2d()\n",
       "        (affine): Linear()\n",
       "        (norm1): GroupNorm()\n",
       "        (conv1): Conv2d()\n",
       "        (skip): Conv2d()\n",
       "      )\n",
       "      (4x4_block2): UNetBlock(\n",
       "        (norm0): GroupNorm()\n",
       "        (conv0): Conv2d()\n",
       "        (affine): Linear()\n",
       "        (norm1): GroupNorm()\n",
       "        (conv1): Conv2d()\n",
       "        (skip): Conv2d()\n",
       "      )\n",
       "      (4x4_block3): UNetBlock(\n",
       "        (norm0): GroupNorm()\n",
       "        (conv0): Conv2d()\n",
       "        (affine): Linear()\n",
       "        (norm1): GroupNorm()\n",
       "        (conv1): Conv2d()\n",
       "        (skip): Conv2d()\n",
       "      )\n",
       "      (4x4_block4): UNetBlock(\n",
       "        (norm0): GroupNorm()\n",
       "        (conv0): Conv2d()\n",
       "        (affine): Linear()\n",
       "        (norm1): GroupNorm()\n",
       "        (conv1): Conv2d()\n",
       "        (skip): Conv2d()\n",
       "      )\n",
       "      (8x8_up): UNetBlock(\n",
       "        (norm0): GroupNorm()\n",
       "        (conv0): Conv2d()\n",
       "        (affine): Linear()\n",
       "        (norm1): GroupNorm()\n",
       "        (conv1): Conv2d()\n",
       "        (skip): Conv2d()\n",
       "      )\n",
       "      (8x8_block0): UNetBlock(\n",
       "        (norm0): GroupNorm()\n",
       "        (conv0): Conv2d()\n",
       "        (affine): Linear()\n",
       "        (norm1): GroupNorm()\n",
       "        (conv1): Conv2d()\n",
       "        (skip): Conv2d()\n",
       "      )\n",
       "      (8x8_block1): UNetBlock(\n",
       "        (norm0): GroupNorm()\n",
       "        (conv0): Conv2d()\n",
       "        (affine): Linear()\n",
       "        (norm1): GroupNorm()\n",
       "        (conv1): Conv2d()\n",
       "        (skip): Conv2d()\n",
       "      )\n",
       "      (8x8_block2): UNetBlock(\n",
       "        (norm0): GroupNorm()\n",
       "        (conv0): Conv2d()\n",
       "        (affine): Linear()\n",
       "        (norm1): GroupNorm()\n",
       "        (conv1): Conv2d()\n",
       "        (skip): Conv2d()\n",
       "      )\n",
       "      (8x8_block3): UNetBlock(\n",
       "        (norm0): GroupNorm()\n",
       "        (conv0): Conv2d()\n",
       "        (affine): Linear()\n",
       "        (norm1): GroupNorm()\n",
       "        (conv1): Conv2d()\n",
       "        (skip): Conv2d()\n",
       "      )\n",
       "      (8x8_block4): UNetBlock(\n",
       "        (norm0): GroupNorm()\n",
       "        (conv0): Conv2d()\n",
       "        (affine): Linear()\n",
       "        (norm1): GroupNorm()\n",
       "        (conv1): Conv2d()\n",
       "        (skip): Conv2d()\n",
       "      )\n",
       "      (16x16_up): UNetBlock(\n",
       "        (norm0): GroupNorm()\n",
       "        (conv0): Conv2d()\n",
       "        (affine): Linear()\n",
       "        (norm1): GroupNorm()\n",
       "        (conv1): Conv2d()\n",
       "        (skip): Conv2d()\n",
       "      )\n",
       "      (16x16_block0): UNetBlock(\n",
       "        (norm0): GroupNorm()\n",
       "        (conv0): Conv2d()\n",
       "        (affine): Linear()\n",
       "        (norm1): GroupNorm()\n",
       "        (conv1): Conv2d()\n",
       "        (skip): Conv2d()\n",
       "      )\n",
       "      (16x16_block1): UNetBlock(\n",
       "        (norm0): GroupNorm()\n",
       "        (conv0): Conv2d()\n",
       "        (affine): Linear()\n",
       "        (norm1): GroupNorm()\n",
       "        (conv1): Conv2d()\n",
       "        (skip): Conv2d()\n",
       "      )\n",
       "      (16x16_block2): UNetBlock(\n",
       "        (norm0): GroupNorm()\n",
       "        (conv0): Conv2d()\n",
       "        (affine): Linear()\n",
       "        (norm1): GroupNorm()\n",
       "        (conv1): Conv2d()\n",
       "        (skip): Conv2d()\n",
       "      )\n",
       "      (16x16_block3): UNetBlock(\n",
       "        (norm0): GroupNorm()\n",
       "        (conv0): Conv2d()\n",
       "        (affine): Linear()\n",
       "        (norm1): GroupNorm()\n",
       "        (conv1): Conv2d()\n",
       "        (skip): Conv2d()\n",
       "      )\n",
       "      (16x16_block4): UNetBlock(\n",
       "        (norm0): GroupNorm()\n",
       "        (conv0): Conv2d()\n",
       "        (affine): Linear()\n",
       "        (norm1): GroupNorm()\n",
       "        (conv1): Conv2d()\n",
       "        (skip): Conv2d()\n",
       "        (norm2): GroupNorm()\n",
       "        (qkv): Conv2d()\n",
       "        (proj): Conv2d()\n",
       "      )\n",
       "      (32x32_up): UNetBlock(\n",
       "        (norm0): GroupNorm()\n",
       "        (conv0): Conv2d()\n",
       "        (affine): Linear()\n",
       "        (norm1): GroupNorm()\n",
       "        (conv1): Conv2d()\n",
       "        (skip): Conv2d()\n",
       "      )\n",
       "      (32x32_block0): UNetBlock(\n",
       "        (norm0): GroupNorm()\n",
       "        (conv0): Conv2d()\n",
       "        (affine): Linear()\n",
       "        (norm1): GroupNorm()\n",
       "        (conv1): Conv2d()\n",
       "        (skip): Conv2d()\n",
       "      )\n",
       "      (32x32_block1): UNetBlock(\n",
       "        (norm0): GroupNorm()\n",
       "        (conv0): Conv2d()\n",
       "        (affine): Linear()\n",
       "        (norm1): GroupNorm()\n",
       "        (conv1): Conv2d()\n",
       "        (skip): Conv2d()\n",
       "      )\n",
       "      (32x32_block2): UNetBlock(\n",
       "        (norm0): GroupNorm()\n",
       "        (conv0): Conv2d()\n",
       "        (affine): Linear()\n",
       "        (norm1): GroupNorm()\n",
       "        (conv1): Conv2d()\n",
       "        (skip): Conv2d()\n",
       "      )\n",
       "      (32x32_block3): UNetBlock(\n",
       "        (norm0): GroupNorm()\n",
       "        (conv0): Conv2d()\n",
       "        (affine): Linear()\n",
       "        (norm1): GroupNorm()\n",
       "        (conv1): Conv2d()\n",
       "        (skip): Conv2d()\n",
       "      )\n",
       "      (32x32_block4): UNetBlock(\n",
       "        (norm0): GroupNorm()\n",
       "        (conv0): Conv2d()\n",
       "        (affine): Linear()\n",
       "        (norm1): GroupNorm()\n",
       "        (conv1): Conv2d()\n",
       "        (skip): Conv2d()\n",
       "      )\n",
       "      (32x32_aux_norm): GroupNorm()\n",
       "      (32x32_aux_conv): Conv2d()\n",
       "    )\n",
       "  )\n",
       ")"
      ]
     },
     "execution_count": 8,
     "metadata": {},
     "output_type": "execute_result"
    }
   ],
   "source": [
    "# load model\n",
    "MODEL_CHANNELS = 32\n",
    "load_path = f'discretefm-{MODEL_CHANNELS}.pt'\n",
    "unet =  SongUnet(img_resolution = 32,  # Image resolution at input/output.\n",
    "    in_channels = 1,  \n",
    "    out_channels = DICT_SIZE,\n",
    "    model_channels= MODEL_CHANNELS)  \n",
    "coupling = Ucoupling()\n",
    "kappa = CubicScheduler()\n",
    "sampler = SimpleSampler()\n",
    "discretefm = DiscreteFM(DICT_SIZE, unet, coupling, kappa, sampler)\n",
    "discretefm.load_state_dict(torch.load(load_path))\n",
    "discretefm.eval()"
   ]
  },
  {
   "cell_type": "markdown",
   "metadata": {},
   "source": [
    "### Sampling"
   ]
  },
  {
   "cell_type": "code",
   "execution_count": 9,
   "metadata": {},
   "outputs": [],
   "source": [
    "\n",
    "\n",
    "sample_size = (16, 32, 32)\n",
    "N_STEPS = 1024\n",
    "\n",
    "# LOAD SAMPLER \n",
    "#sampler = SimpleSampler(adaptative=True)\n",
    "\n",
    "#sampler = CorrectorSampler(adaptative=True, a=1, b=1, alpha=1)\n",
    "sampler = CorrectorSampler(adaptative=True)\n",
    "# t = torch.linspace(0, 1, N_STEPS, device=discretefm.device)\n",
    "# plt.figure(figsize=(10, 10))\n",
    "# plt.plot(t, sampler.alpha_t(t), label='alpha(t)')\n",
    "# plt.plot(t, sampler.beta_t(t), label='beta(t)')\n",
    "# plt.legend()\n",
    "# plt.show()"
   ]
  },
  {
   "cell_type": "code",
   "execution_count": 10,
   "metadata": {},
   "outputs": [],
   "source": [
    "with torch.no_grad():\n",
    "    xts = sampler(sample_size, discretefm, N_STEPS)"
   ]
  },
  {
   "cell_type": "code",
   "execution_count": 11,
   "metadata": {},
   "outputs": [
    {
     "data": {
      "image/png": "[encoded data removed]",
      "text/plain": [
       "<Figure size 1000x1000 with 1 Axes>"
      ]
     },
     "metadata": {},
     "output_type": "display_data"
    }
   ],
   "source": [
    "plot_generation(xts, n_plots=5)"
   ]
  },
  {
   "cell_type": "code",
   "execution_count": 12,
   "metadata": {},
   "outputs": [
    {
     "data": {
      "image/png": "[encoded data removed]",
      "text/plain": [
       "<Figure size 640x480 with 1 Axes>"
      ]
     },
     "metadata": {},
     "output_type": "display_data"
    }
   ],
   "source": [
    "create_animation(xts, 'digits.gif', duration=5, dict_size=DICT_SIZE)"
   ]
  }
 ],
 "metadata": {
  "kernelspec": {
   "display_name": "diffusion",
   "language": "python",
   "name": "python3"
  },
  "language_info": {
   "codemirror_mode": {
    "name": "ipython",
    "version": 3
   },
   "file_extension": ".py",
   "mimetype": "text/x-python",
   "name": "python",
   "nbconvert_exporter": "python",
   "pygments_lexer": "ipython3",
   "version": "3.10.13"
  }
 },
 "nbformat": 4,
 "nbformat_minor": 2
}
